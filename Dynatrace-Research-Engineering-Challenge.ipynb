{
 "cells": [
  {
   "cell_type": "markdown",
   "metadata": {},
   "source": [
    "# Research Engineering Challenge"
   ]
  },
  {
   "cell_type": "markdown",
   "metadata": {},
   "source": [
    "## Connecting to spacexdata API"
   ]
  },
  {
   "cell_type": "code",
   "execution_count": 1,
   "metadata": {},
   "outputs": [],
   "source": [
    "import requests\n",
    "url = 'https://api.spacexdata.com/v3/launches'\n",
    "payload = {}\n",
    "headers = {}\n",
    "response = requests.get('https://api.spacexdata.com/v3/launches', headers = headers, data = payload)"
   ]
  },
  {
   "cell_type": "markdown",
   "metadata": {},
   "source": [
    "## Generating database."
   ]
  },
  {
   "cell_type": "code",
   "execution_count": 2,
   "metadata": {
    "scrolled": true
   },
   "outputs": [
    {
     "name": "stdout",
     "output_type": "stream",
     "text": [
      "application/json; charset=utf-8\n"
     ]
    }
   ],
   "source": [
    "print(response.headers[\"content-type\"])"
   ]
  },
  {
   "cell_type": "markdown",
   "metadata": {},
   "source": [
    "Convert JSON to csv."
   ]
  },
  {
   "cell_type": "code",
   "execution_count": 3,
   "metadata": {
    "scrolled": true
   },
   "outputs": [],
   "source": [
    "import json\n",
    "import csv\n",
    "\n",
    "db = json.loads(response.text)\n",
    "spacex_data = open('SpaceXData.csv', 'w')\n",
    "csvwriter = csv.writer(spacex_data)\n",
    "\n",
    "count = 0\n",
    "\n",
    "for launch in db:\n",
    "      if count == 0:\n",
    "             header = launch.keys()\n",
    "             csvwriter.writerow(header)\n",
    "             count += 1\n",
    "      csvwriter.writerow(launch.values())\n",
    "spacex_data.close()"
   ]
  },
  {
   "cell_type": "markdown",
   "metadata": {},
   "source": [
    "Load csv file into pandas dataframe."
   ]
  },
  {
   "cell_type": "code",
   "execution_count": 4,
   "metadata": {
    "scrolled": true
   },
   "outputs": [
    {
     "name": "stderr",
     "output_type": "stream",
     "text": [
      "b'Skipping line 169: expected 24 fields, saw 30\\nSkipping line 173: expected 24 fields, saw 30\\nSkipping line 177: expected 24 fields, saw 30\\nSkipping line 201: expected 24 fields, saw 30\\n'\n"
     ]
    }
   ],
   "source": [
    "import pandas as pd\n",
    "\n",
    "# Dropping 4 lines that have to many fields\n",
    "v3_launches = pd.read_csv(\"SpaceXData.csv\", error_bad_lines=False, encoding='latin1')"
   ]
  },
  {
   "cell_type": "markdown",
   "metadata": {},
   "source": [
    "## Data cleaning\n",
    "\n",
    "Database first 6 rows:"
   ]
  },
  {
   "cell_type": "code",
   "execution_count": 5,
   "metadata": {},
   "outputs": [
    {
     "data": {
      "text/html": [
       "<div>\n",
       "<style scoped>\n",
       "    .dataframe tbody tr th:only-of-type {\n",
       "        vertical-align: middle;\n",
       "    }\n",
       "\n",
       "    .dataframe tbody tr th {\n",
       "        vertical-align: top;\n",
       "    }\n",
       "\n",
       "    .dataframe thead th {\n",
       "        text-align: right;\n",
       "    }\n",
       "</style>\n",
       "<table border=\"1\" class=\"dataframe\">\n",
       "  <thead>\n",
       "    <tr style=\"text-align: right;\">\n",
       "      <th></th>\n",
       "      <th>flight_number</th>\n",
       "      <th>mission_name</th>\n",
       "      <th>mission_id</th>\n",
       "      <th>upcoming</th>\n",
       "      <th>launch_year</th>\n",
       "      <th>launch_date_unix</th>\n",
       "      <th>launch_date_utc</th>\n",
       "      <th>launch_date_local</th>\n",
       "      <th>is_tentative</th>\n",
       "      <th>tentative_max_precision</th>\n",
       "      <th>...</th>\n",
       "      <th>telemetry</th>\n",
       "      <th>launch_site</th>\n",
       "      <th>launch_success</th>\n",
       "      <th>launch_failure_details</th>\n",
       "      <th>links</th>\n",
       "      <th>details</th>\n",
       "      <th>static_fire_date_utc</th>\n",
       "      <th>static_fire_date_unix</th>\n",
       "      <th>timeline</th>\n",
       "      <th>crew</th>\n",
       "    </tr>\n",
       "  </thead>\n",
       "  <tbody>\n",
       "    <tr>\n",
       "      <th>0</th>\n",
       "      <td>1</td>\n",
       "      <td>FalconSat</td>\n",
       "      <td>[]</td>\n",
       "      <td>False</td>\n",
       "      <td>2006</td>\n",
       "      <td>1143239400</td>\n",
       "      <td>2006-03-24T22:30:00.000Z</td>\n",
       "      <td>2006-03-25T10:30:00+12:00</td>\n",
       "      <td>False</td>\n",
       "      <td>hour</td>\n",
       "      <td>...</td>\n",
       "      <td>{'flight_club': None}</td>\n",
       "      <td>{'site_id': 'kwajalein_atoll', 'site_name': 'K...</td>\n",
       "      <td>False</td>\n",
       "      <td>{'time': 33, 'altitude': None, 'reason': 'merl...</td>\n",
       "      <td>{'mission_patch': 'https://images2.imgbox.com/...</td>\n",
       "      <td>Engine failure at 33 seconds and loss of vehicle</td>\n",
       "      <td>2006-03-17T00:00:00.000Z</td>\n",
       "      <td>1142553600</td>\n",
       "      <td>{'webcast_liftoff': 54}</td>\n",
       "      <td>NaN</td>\n",
       "    </tr>\n",
       "    <tr>\n",
       "      <th>1</th>\n",
       "      <td>2</td>\n",
       "      <td>DemoSat</td>\n",
       "      <td>[]</td>\n",
       "      <td>2007</td>\n",
       "      <td>1174439400</td>\n",
       "      <td>2007-03-21T01:10:00.000Z</td>\n",
       "      <td>2007-03-21T13:10:00+12:00</td>\n",
       "      <td>False</td>\n",
       "      <td>hour</td>\n",
       "      <td>False</td>\n",
       "      <td>...</td>\n",
       "      <td>{'site_id': 'kwajalein_atoll', 'site_name': 'K...</td>\n",
       "      <td>False</td>\n",
       "      <td>{'time': 301, 'altitude': 289, 'reason': 'harm...</td>\n",
       "      <td>{'mission_patch': 'https://images2.imgbox.com/...</td>\n",
       "      <td>Successful first stage burn and transition to ...</td>\n",
       "      <td>False</td>\n",
       "      <td>NaN</td>\n",
       "      <td>NaN</td>\n",
       "      <td>{'webcast_liftoff': 60}</td>\n",
       "      <td>NaN</td>\n",
       "    </tr>\n",
       "    <tr>\n",
       "      <th>2</th>\n",
       "      <td>3</td>\n",
       "      <td>Trailblazer</td>\n",
       "      <td>[]</td>\n",
       "      <td>2008</td>\n",
       "      <td>1217648040</td>\n",
       "      <td>2008-08-02T03:34:00.000Z</td>\n",
       "      <td>2008-08-02T15:34:00+12:00</td>\n",
       "      <td>False</td>\n",
       "      <td>hour</td>\n",
       "      <td>False</td>\n",
       "      <td>...</td>\n",
       "      <td>{'site_id': 'kwajalein_atoll', 'site_name': 'K...</td>\n",
       "      <td>False</td>\n",
       "      <td>{'time': 140, 'altitude': 35, 'reason': 'resid...</td>\n",
       "      <td>{'mission_patch': 'https://images2.imgbox.com/...</td>\n",
       "      <td>Residual stage 1 thrust led to collision betwe...</td>\n",
       "      <td>False</td>\n",
       "      <td>NaN</td>\n",
       "      <td>NaN</td>\n",
       "      <td>{'webcast_liftoff': 14}</td>\n",
       "      <td>NaN</td>\n",
       "    </tr>\n",
       "    <tr>\n",
       "      <th>3</th>\n",
       "      <td>4</td>\n",
       "      <td>RatSat</td>\n",
       "      <td>[]</td>\n",
       "      <td>2008</td>\n",
       "      <td>1222643700</td>\n",
       "      <td>2008-09-28T23:15:00.000Z</td>\n",
       "      <td>2008-09-28T11:15:00+12:00</td>\n",
       "      <td>False</td>\n",
       "      <td>hour</td>\n",
       "      <td>False</td>\n",
       "      <td>...</td>\n",
       "      <td>{'site_id': 'kwajalein_atoll', 'site_name': 'K...</td>\n",
       "      <td>True</td>\n",
       "      <td>{'mission_patch': 'https://images2.imgbox.com/...</td>\n",
       "      <td>Ratsat was carried to orbit on the first succe...</td>\n",
       "      <td>False</td>\n",
       "      <td>2008-09-20T00:00:00.000Z</td>\n",
       "      <td>1221868800</td>\n",
       "      <td>{'webcast_liftoff': 5}</td>\n",
       "      <td>NaN</td>\n",
       "      <td>NaN</td>\n",
       "    </tr>\n",
       "    <tr>\n",
       "      <th>4</th>\n",
       "      <td>5</td>\n",
       "      <td>RazakSat</td>\n",
       "      <td>[]</td>\n",
       "      <td>2009</td>\n",
       "      <td>1247456100</td>\n",
       "      <td>2009-07-13T03:35:00.000Z</td>\n",
       "      <td>2009-07-13T15:35:00+12:00</td>\n",
       "      <td>False</td>\n",
       "      <td>hour</td>\n",
       "      <td>False</td>\n",
       "      <td>...</td>\n",
       "      <td>{'site_id': 'kwajalein_atoll', 'site_name': 'K...</td>\n",
       "      <td>True</td>\n",
       "      <td>{'mission_patch': 'https://images2.imgbox.com/...</td>\n",
       "      <td>NaN</td>\n",
       "      <td>False</td>\n",
       "      <td>NaN</td>\n",
       "      <td>NaN</td>\n",
       "      <td>{'webcast_liftoff': 5}</td>\n",
       "      <td>NaN</td>\n",
       "      <td>NaN</td>\n",
       "    </tr>\n",
       "    <tr>\n",
       "      <th>5</th>\n",
       "      <td>6</td>\n",
       "      <td>Falcon 9 Test Flight</td>\n",
       "      <td>['EE86F74']</td>\n",
       "      <td>2010</td>\n",
       "      <td>1275677100</td>\n",
       "      <td>2010-06-04T18:45:00.000Z</td>\n",
       "      <td>2010-06-04T14:45:00-04:00</td>\n",
       "      <td>False</td>\n",
       "      <td>hour</td>\n",
       "      <td>False</td>\n",
       "      <td>...</td>\n",
       "      <td>{'site_id': 'ccafs_slc_40', 'site_name': 'CCAF...</td>\n",
       "      <td>True</td>\n",
       "      <td>{'mission_patch': 'https://images2.imgbox.com/...</td>\n",
       "      <td>NaN</td>\n",
       "      <td>False</td>\n",
       "      <td>2010-03-13T00:00:00.000Z</td>\n",
       "      <td>1268438400</td>\n",
       "      <td>{'webcast_liftoff': 123, 'go_for_prop_loading'...</td>\n",
       "      <td>NaN</td>\n",
       "      <td>NaN</td>\n",
       "    </tr>\n",
       "  </tbody>\n",
       "</table>\n",
       "<p>6 rows × 24 columns</p>\n",
       "</div>"
      ],
      "text/plain": [
       "   flight_number          mission_name   mission_id upcoming  launch_year  \\\n",
       "0              1             FalconSat           []    False         2006   \n",
       "1              2               DemoSat           []     2007   1174439400   \n",
       "2              3           Trailblazer           []     2008   1217648040   \n",
       "3              4                RatSat           []     2008   1222643700   \n",
       "4              5              RazakSat           []     2009   1247456100   \n",
       "5              6  Falcon 9 Test Flight  ['EE86F74']     2010   1275677100   \n",
       "\n",
       "           launch_date_unix            launch_date_utc  \\\n",
       "0                1143239400   2006-03-24T22:30:00.000Z   \n",
       "1  2007-03-21T01:10:00.000Z  2007-03-21T13:10:00+12:00   \n",
       "2  2008-08-02T03:34:00.000Z  2008-08-02T15:34:00+12:00   \n",
       "3  2008-09-28T23:15:00.000Z  2008-09-28T11:15:00+12:00   \n",
       "4  2009-07-13T03:35:00.000Z  2009-07-13T15:35:00+12:00   \n",
       "5  2010-06-04T18:45:00.000Z  2010-06-04T14:45:00-04:00   \n",
       "\n",
       "           launch_date_local is_tentative tentative_max_precision  ...  \\\n",
       "0  2006-03-25T10:30:00+12:00        False                    hour  ...   \n",
       "1                      False         hour                   False  ...   \n",
       "2                      False         hour                   False  ...   \n",
       "3                      False         hour                   False  ...   \n",
       "4                      False         hour                   False  ...   \n",
       "5                      False         hour                   False  ...   \n",
       "\n",
       "                                           telemetry  \\\n",
       "0                              {'flight_club': None}   \n",
       "1  {'site_id': 'kwajalein_atoll', 'site_name': 'K...   \n",
       "2  {'site_id': 'kwajalein_atoll', 'site_name': 'K...   \n",
       "3  {'site_id': 'kwajalein_atoll', 'site_name': 'K...   \n",
       "4  {'site_id': 'kwajalein_atoll', 'site_name': 'K...   \n",
       "5  {'site_id': 'ccafs_slc_40', 'site_name': 'CCAF...   \n",
       "\n",
       "                                         launch_site  \\\n",
       "0  {'site_id': 'kwajalein_atoll', 'site_name': 'K...   \n",
       "1                                              False   \n",
       "2                                              False   \n",
       "3                                               True   \n",
       "4                                               True   \n",
       "5                                               True   \n",
       "\n",
       "                                      launch_success  \\\n",
       "0                                              False   \n",
       "1  {'time': 301, 'altitude': 289, 'reason': 'harm...   \n",
       "2  {'time': 140, 'altitude': 35, 'reason': 'resid...   \n",
       "3  {'mission_patch': 'https://images2.imgbox.com/...   \n",
       "4  {'mission_patch': 'https://images2.imgbox.com/...   \n",
       "5  {'mission_patch': 'https://images2.imgbox.com/...   \n",
       "\n",
       "                              launch_failure_details  \\\n",
       "0  {'time': 33, 'altitude': None, 'reason': 'merl...   \n",
       "1  {'mission_patch': 'https://images2.imgbox.com/...   \n",
       "2  {'mission_patch': 'https://images2.imgbox.com/...   \n",
       "3  Ratsat was carried to orbit on the first succe...   \n",
       "4                                                NaN   \n",
       "5                                                NaN   \n",
       "\n",
       "                                               links  \\\n",
       "0  {'mission_patch': 'https://images2.imgbox.com/...   \n",
       "1  Successful first stage burn and transition to ...   \n",
       "2  Residual stage 1 thrust led to collision betwe...   \n",
       "3                                              False   \n",
       "4                                              False   \n",
       "5                                              False   \n",
       "\n",
       "                                            details      static_fire_date_utc  \\\n",
       "0  Engine failure at 33 seconds and loss of vehicle  2006-03-17T00:00:00.000Z   \n",
       "1                                             False                       NaN   \n",
       "2                                             False                       NaN   \n",
       "3                          2008-09-20T00:00:00.000Z                1221868800   \n",
       "4                                               NaN                       NaN   \n",
       "5                          2010-03-13T00:00:00.000Z                1268438400   \n",
       "\n",
       "                               static_fire_date_unix                 timeline  \\\n",
       "0                                         1142553600  {'webcast_liftoff': 54}   \n",
       "1                                                NaN  {'webcast_liftoff': 60}   \n",
       "2                                                NaN  {'webcast_liftoff': 14}   \n",
       "3                             {'webcast_liftoff': 5}                      NaN   \n",
       "4                             {'webcast_liftoff': 5}                      NaN   \n",
       "5  {'webcast_liftoff': 123, 'go_for_prop_loading'...                      NaN   \n",
       "\n",
       "  crew  \n",
       "0  NaN  \n",
       "1  NaN  \n",
       "2  NaN  \n",
       "3  NaN  \n",
       "4  NaN  \n",
       "5  NaN  \n",
       "\n",
       "[6 rows x 24 columns]"
      ]
     },
     "execution_count": 5,
     "metadata": {},
     "output_type": "execute_result"
    }
   ],
   "source": [
    "v3_launches.head(6)"
   ]
  },
  {
   "cell_type": "markdown",
   "metadata": {},
   "source": [
    "Database columns:"
   ]
  },
  {
   "cell_type": "code",
   "execution_count": 6,
   "metadata": {},
   "outputs": [
    {
     "name": "stdout",
     "output_type": "stream",
     "text": [
      "<class 'pandas.core.frame.DataFrame'>\n",
      "RangeIndex: 100 entries, 0 to 99\n",
      "Data columns (total 24 columns):\n",
      "flight_number              100 non-null int64\n",
      "mission_name               100 non-null object\n",
      "mission_id                 100 non-null object\n",
      "upcoming                   100 non-null object\n",
      "launch_year                100 non-null int64\n",
      "launch_date_unix           100 non-null object\n",
      "launch_date_utc            100 non-null object\n",
      "launch_date_local          100 non-null object\n",
      "is_tentative               100 non-null object\n",
      "tentative_max_precision    100 non-null object\n",
      "tbd                        82 non-null object\n",
      "launch_window              100 non-null object\n",
      "rocket                     100 non-null object\n",
      "ships                      100 non-null object\n",
      "telemetry                  100 non-null object\n",
      "launch_site                83 non-null object\n",
      "launch_success             100 non-null object\n",
      "launch_failure_details     77 non-null object\n",
      "links                      100 non-null object\n",
      "details                    82 non-null object\n",
      "static_fire_date_utc       80 non-null object\n",
      "static_fire_date_unix      79 non-null object\n",
      "timeline                   5 non-null object\n",
      "crew                       0 non-null float64\n",
      "dtypes: float64(1), int64(2), object(21)\n",
      "memory usage: 18.9+ KB\n"
     ]
    }
   ],
   "source": [
    "v3_launches.info()"
   ]
  },
  {
   "cell_type": "code",
   "execution_count": 7,
   "metadata": {
    "scrolled": true
   },
   "outputs": [
    {
     "data": {
      "text/plain": [
       "Index(['flight_number', 'mission_name', 'mission_id', 'upcoming',\n",
       "       'launch_year', 'launch_date_unix', 'launch_date_utc',\n",
       "       'launch_date_local', 'is_tentative', 'tentative_max_precision', 'tbd',\n",
       "       'launch_window', 'rocket', 'ships', 'telemetry', 'launch_site',\n",
       "       'launch_success', 'launch_failure_details', 'links', 'details',\n",
       "       'static_fire_date_utc', 'static_fire_date_unix', 'timeline', 'crew'],\n",
       "      dtype='object')"
      ]
     },
     "execution_count": 7,
     "metadata": {},
     "output_type": "execute_result"
    }
   ],
   "source": [
    "v3_launches.columns"
   ]
  },
  {
   "cell_type": "markdown",
   "metadata": {},
   "source": [
    "Deleting all columns containing dates except launch_date_utc."
   ]
  },
  {
   "cell_type": "code",
   "execution_count": 8,
   "metadata": {
    "scrolled": true
   },
   "outputs": [],
   "source": [
    "v3_launches = v3_launches.drop(['upcoming','launch_year', 'launch_date_unix','launch_date_local'], axis=1)"
   ]
  },
  {
   "cell_type": "markdown",
   "metadata": {},
   "source": [
    "Dropping columns that are not necessery for further analyze."
   ]
  },
  {
   "cell_type": "code",
   "execution_count": 9,
   "metadata": {},
   "outputs": [
    {
     "data": {
      "text/html": [
       "<div>\n",
       "<style scoped>\n",
       "    .dataframe tbody tr th:only-of-type {\n",
       "        vertical-align: middle;\n",
       "    }\n",
       "\n",
       "    .dataframe tbody tr th {\n",
       "        vertical-align: top;\n",
       "    }\n",
       "\n",
       "    .dataframe thead th {\n",
       "        text-align: right;\n",
       "    }\n",
       "</style>\n",
       "<table border=\"1\" class=\"dataframe\">\n",
       "  <thead>\n",
       "    <tr style=\"text-align: right;\">\n",
       "      <th></th>\n",
       "      <th>flight_number</th>\n",
       "      <th>launch_date_utc</th>\n",
       "      <th>launch_window</th>\n",
       "      <th>rocket</th>\n",
       "      <th>launch_site</th>\n",
       "      <th>launch_success</th>\n",
       "      <th>launch_failure_details</th>\n",
       "    </tr>\n",
       "  </thead>\n",
       "  <tbody>\n",
       "    <tr>\n",
       "      <th>0</th>\n",
       "      <td>1</td>\n",
       "      <td>2006-03-24T22:30:00.000Z</td>\n",
       "      <td>0</td>\n",
       "      <td>{'rocket_id': 'falcon1', 'rocket_name': 'Falco...</td>\n",
       "      <td>{'site_id': 'kwajalein_atoll', 'site_name': 'K...</td>\n",
       "      <td>False</td>\n",
       "      <td>{'time': 33, 'altitude': None, 'reason': 'merl...</td>\n",
       "    </tr>\n",
       "    <tr>\n",
       "      <th>1</th>\n",
       "      <td>2</td>\n",
       "      <td>2007-03-21T13:10:00+12:00</td>\n",
       "      <td>{'rocket_id': 'falcon1', 'rocket_name': 'Falco...</td>\n",
       "      <td>[]</td>\n",
       "      <td>False</td>\n",
       "      <td>{'time': 301, 'altitude': 289, 'reason': 'harm...</td>\n",
       "      <td>{'mission_patch': 'https://images2.imgbox.com/...</td>\n",
       "    </tr>\n",
       "    <tr>\n",
       "      <th>2</th>\n",
       "      <td>3</td>\n",
       "      <td>2008-08-02T15:34:00+12:00</td>\n",
       "      <td>{'rocket_id': 'falcon1', 'rocket_name': 'Falco...</td>\n",
       "      <td>[]</td>\n",
       "      <td>False</td>\n",
       "      <td>{'time': 140, 'altitude': 35, 'reason': 'resid...</td>\n",
       "      <td>{'mission_patch': 'https://images2.imgbox.com/...</td>\n",
       "    </tr>\n",
       "    <tr>\n",
       "      <th>3</th>\n",
       "      <td>4</td>\n",
       "      <td>2008-09-28T11:15:00+12:00</td>\n",
       "      <td>{'rocket_id': 'falcon1', 'rocket_name': 'Falco...</td>\n",
       "      <td>[]</td>\n",
       "      <td>True</td>\n",
       "      <td>{'mission_patch': 'https://images2.imgbox.com/...</td>\n",
       "      <td>Ratsat was carried to orbit on the first succe...</td>\n",
       "    </tr>\n",
       "    <tr>\n",
       "      <th>4</th>\n",
       "      <td>5</td>\n",
       "      <td>2009-07-13T15:35:00+12:00</td>\n",
       "      <td>{'rocket_id': 'falcon1', 'rocket_name': 'Falco...</td>\n",
       "      <td>[]</td>\n",
       "      <td>True</td>\n",
       "      <td>{'mission_patch': 'https://images2.imgbox.com/...</td>\n",
       "      <td>NaN</td>\n",
       "    </tr>\n",
       "    <tr>\n",
       "      <th>5</th>\n",
       "      <td>6</td>\n",
       "      <td>2010-06-04T14:45:00-04:00</td>\n",
       "      <td>{'rocket_id': 'falcon9', 'rocket_name': 'Falco...</td>\n",
       "      <td>[]</td>\n",
       "      <td>True</td>\n",
       "      <td>{'mission_patch': 'https://images2.imgbox.com/...</td>\n",
       "      <td>NaN</td>\n",
       "    </tr>\n",
       "  </tbody>\n",
       "</table>\n",
       "</div>"
      ],
      "text/plain": [
       "   flight_number            launch_date_utc  \\\n",
       "0              1   2006-03-24T22:30:00.000Z   \n",
       "1              2  2007-03-21T13:10:00+12:00   \n",
       "2              3  2008-08-02T15:34:00+12:00   \n",
       "3              4  2008-09-28T11:15:00+12:00   \n",
       "4              5  2009-07-13T15:35:00+12:00   \n",
       "5              6  2010-06-04T14:45:00-04:00   \n",
       "\n",
       "                                       launch_window  \\\n",
       "0                                                  0   \n",
       "1  {'rocket_id': 'falcon1', 'rocket_name': 'Falco...   \n",
       "2  {'rocket_id': 'falcon1', 'rocket_name': 'Falco...   \n",
       "3  {'rocket_id': 'falcon1', 'rocket_name': 'Falco...   \n",
       "4  {'rocket_id': 'falcon1', 'rocket_name': 'Falco...   \n",
       "5  {'rocket_id': 'falcon9', 'rocket_name': 'Falco...   \n",
       "\n",
       "                                              rocket  \\\n",
       "0  {'rocket_id': 'falcon1', 'rocket_name': 'Falco...   \n",
       "1                                                 []   \n",
       "2                                                 []   \n",
       "3                                                 []   \n",
       "4                                                 []   \n",
       "5                                                 []   \n",
       "\n",
       "                                         launch_site  \\\n",
       "0  {'site_id': 'kwajalein_atoll', 'site_name': 'K...   \n",
       "1                                              False   \n",
       "2                                              False   \n",
       "3                                               True   \n",
       "4                                               True   \n",
       "5                                               True   \n",
       "\n",
       "                                      launch_success  \\\n",
       "0                                              False   \n",
       "1  {'time': 301, 'altitude': 289, 'reason': 'harm...   \n",
       "2  {'time': 140, 'altitude': 35, 'reason': 'resid...   \n",
       "3  {'mission_patch': 'https://images2.imgbox.com/...   \n",
       "4  {'mission_patch': 'https://images2.imgbox.com/...   \n",
       "5  {'mission_patch': 'https://images2.imgbox.com/...   \n",
       "\n",
       "                              launch_failure_details  \n",
       "0  {'time': 33, 'altitude': None, 'reason': 'merl...  \n",
       "1  {'mission_patch': 'https://images2.imgbox.com/...  \n",
       "2  {'mission_patch': 'https://images2.imgbox.com/...  \n",
       "3  Ratsat was carried to orbit on the first succe...  \n",
       "4                                                NaN  \n",
       "5                                                NaN  "
      ]
     },
     "execution_count": 9,
     "metadata": {},
     "output_type": "execute_result"
    }
   ],
   "source": [
    "v3_launches = v3_launches.drop(['mission_id', 'mission_name', 'is_tentative', 'tentative_max_precision', 'tbd', 'ships', 'telemetry', 'links', 'details', 'static_fire_date_utc', 'static_fire_date_unix', 'timeline', 'crew'], axis=1)\n",
    "v3_launches.head(6)"
   ]
  },
  {
   "cell_type": "markdown",
   "metadata": {},
   "source": [
    "First row of dataset is shifted right from launch_window column.\n",
    "\n",
    "Fixing 1st row of launch_window, launch_site and launch success columns. Deleting rocket and launch_failure_details columns.\n",
    "\n",
    "Changing column names."
   ]
  },
  {
   "cell_type": "code",
   "execution_count": 10,
   "metadata": {
    "scrolled": true
   },
   "outputs": [
    {
     "data": {
      "text/html": [
       "<div>\n",
       "<style scoped>\n",
       "    .dataframe tbody tr th:only-of-type {\n",
       "        vertical-align: middle;\n",
       "    }\n",
       "\n",
       "    .dataframe tbody tr th {\n",
       "        vertical-align: top;\n",
       "    }\n",
       "\n",
       "    .dataframe thead th {\n",
       "        text-align: right;\n",
       "    }\n",
       "</style>\n",
       "<table border=\"1\" class=\"dataframe\">\n",
       "  <thead>\n",
       "    <tr style=\"text-align: right;\">\n",
       "      <th></th>\n",
       "      <th>flight_number</th>\n",
       "      <th>date</th>\n",
       "      <th>rocket</th>\n",
       "      <th>launch_success</th>\n",
       "    </tr>\n",
       "  </thead>\n",
       "  <tbody>\n",
       "    <tr>\n",
       "      <th>0</th>\n",
       "      <td>1</td>\n",
       "      <td>2006-03-24T22:30:00.000Z</td>\n",
       "      <td>{'rocket_id': 'falcon1', 'rocket_name': 'Falco...</td>\n",
       "      <td>False</td>\n",
       "    </tr>\n",
       "    <tr>\n",
       "      <th>1</th>\n",
       "      <td>2</td>\n",
       "      <td>2007-03-21T13:10:00+12:00</td>\n",
       "      <td>{'rocket_id': 'falcon1', 'rocket_name': 'Falco...</td>\n",
       "      <td>False</td>\n",
       "    </tr>\n",
       "    <tr>\n",
       "      <th>2</th>\n",
       "      <td>3</td>\n",
       "      <td>2008-08-02T15:34:00+12:00</td>\n",
       "      <td>{'rocket_id': 'falcon1', 'rocket_name': 'Falco...</td>\n",
       "      <td>False</td>\n",
       "    </tr>\n",
       "    <tr>\n",
       "      <th>3</th>\n",
       "      <td>4</td>\n",
       "      <td>2008-09-28T11:15:00+12:00</td>\n",
       "      <td>{'rocket_id': 'falcon1', 'rocket_name': 'Falco...</td>\n",
       "      <td>True</td>\n",
       "    </tr>\n",
       "    <tr>\n",
       "      <th>4</th>\n",
       "      <td>5</td>\n",
       "      <td>2009-07-13T15:35:00+12:00</td>\n",
       "      <td>{'rocket_id': 'falcon1', 'rocket_name': 'Falco...</td>\n",
       "      <td>True</td>\n",
       "    </tr>\n",
       "  </tbody>\n",
       "</table>\n",
       "</div>"
      ],
      "text/plain": [
       "   flight_number                       date  \\\n",
       "0              1   2006-03-24T22:30:00.000Z   \n",
       "1              2  2007-03-21T13:10:00+12:00   \n",
       "2              3  2008-08-02T15:34:00+12:00   \n",
       "3              4  2008-09-28T11:15:00+12:00   \n",
       "4              5  2009-07-13T15:35:00+12:00   \n",
       "\n",
       "                                              rocket launch_success  \n",
       "0  {'rocket_id': 'falcon1', 'rocket_name': 'Falco...          False  \n",
       "1  {'rocket_id': 'falcon1', 'rocket_name': 'Falco...          False  \n",
       "2  {'rocket_id': 'falcon1', 'rocket_name': 'Falco...          False  \n",
       "3  {'rocket_id': 'falcon1', 'rocket_name': 'Falco...           True  \n",
       "4  {'rocket_id': 'falcon1', 'rocket_name': 'Falco...           True  "
      ]
     },
     "execution_count": 10,
     "metadata": {},
     "output_type": "execute_result"
    }
   ],
   "source": [
    "v3_launches.loc[0,\"launch_window\"] = v3_launches.loc[0,\"rocket\"]\n",
    "v3_launches.loc[0,\"launch_site\"] = v3_launches.loc[0,\"launch_success\"]\n",
    "v3_launches = v3_launches.drop(['rocket', 'launch_success', 'launch_failure_details'], axis=1)\n",
    "v3_launches.rename(columns = {\"launch_date_utc\": \"date\", \"launch_window\": \"rocket\", \"launch_site\":\"launch_success\"}, inplace = True) \n",
    "v3_launches.head()"
   ]
  },
  {
   "cell_type": "markdown",
   "metadata": {},
   "source": [
    "Changing format of UTC time to datetime."
   ]
  },
  {
   "cell_type": "code",
   "execution_count": 11,
   "metadata": {},
   "outputs": [],
   "source": [
    "import datetime\n",
    "\n",
    "v3_launches.loc[:,\"date\"] = v3_launches.loc[:,\"date\"].str[:10]\n",
    "v3_launches['date'] = pd.to_datetime(v3_launches[\"date\"])"
   ]
  },
  {
   "cell_type": "markdown",
   "metadata": {},
   "source": [
    "Lets sort rows by dates."
   ]
  },
  {
   "cell_type": "code",
   "execution_count": 12,
   "metadata": {
    "scrolled": true
   },
   "outputs": [
    {
     "data": {
      "text/html": [
       "<div>\n",
       "<style scoped>\n",
       "    .dataframe tbody tr th:only-of-type {\n",
       "        vertical-align: middle;\n",
       "    }\n",
       "\n",
       "    .dataframe tbody tr th {\n",
       "        vertical-align: top;\n",
       "    }\n",
       "\n",
       "    .dataframe thead th {\n",
       "        text-align: right;\n",
       "    }\n",
       "</style>\n",
       "<table border=\"1\" class=\"dataframe\">\n",
       "  <thead>\n",
       "    <tr style=\"text-align: right;\">\n",
       "      <th></th>\n",
       "      <th>flight_number</th>\n",
       "      <th>date</th>\n",
       "      <th>rocket</th>\n",
       "      <th>launch_success</th>\n",
       "    </tr>\n",
       "  </thead>\n",
       "  <tbody>\n",
       "    <tr>\n",
       "      <th>94</th>\n",
       "      <td>98</td>\n",
       "      <td>2020-04-30</td>\n",
       "      <td>{'rocket_id': 'falcon9', 'rocket_name': 'Falco...</td>\n",
       "      <td>NaN</td>\n",
       "    </tr>\n",
       "    <tr>\n",
       "      <th>96</th>\n",
       "      <td>101</td>\n",
       "      <td>2020-06-30</td>\n",
       "      <td>{'rocket_id': 'falcon9', 'rocket_name': 'Falco...</td>\n",
       "      <td>NaN</td>\n",
       "    </tr>\n",
       "    <tr>\n",
       "      <th>97</th>\n",
       "      <td>102</td>\n",
       "      <td>2020-07-31</td>\n",
       "      <td>{'rocket_id': 'falcon9', 'rocket_name': 'Falco...</td>\n",
       "      <td>NaN</td>\n",
       "    </tr>\n",
       "    <tr>\n",
       "      <th>98</th>\n",
       "      <td>103</td>\n",
       "      <td>2020-08-31</td>\n",
       "      <td>{'rocket_id': 'falcon9', 'rocket_name': 'Falco...</td>\n",
       "      <td>NaN</td>\n",
       "    </tr>\n",
       "    <tr>\n",
       "      <th>99</th>\n",
       "      <td>104</td>\n",
       "      <td>2020-09-30</td>\n",
       "      <td>{'rocket_id': 'falcon9', 'rocket_name': 'Falco...</td>\n",
       "      <td>NaN</td>\n",
       "    </tr>\n",
       "  </tbody>\n",
       "</table>\n",
       "</div>"
      ],
      "text/plain": [
       "    flight_number       date  \\\n",
       "94             98 2020-04-30   \n",
       "96            101 2020-06-30   \n",
       "97            102 2020-07-31   \n",
       "98            103 2020-08-31   \n",
       "99            104 2020-09-30   \n",
       "\n",
       "                                               rocket launch_success  \n",
       "94  {'rocket_id': 'falcon9', 'rocket_name': 'Falco...            NaN  \n",
       "96  {'rocket_id': 'falcon9', 'rocket_name': 'Falco...            NaN  \n",
       "97  {'rocket_id': 'falcon9', 'rocket_name': 'Falco...            NaN  \n",
       "98  {'rocket_id': 'falcon9', 'rocket_name': 'Falco...            NaN  \n",
       "99  {'rocket_id': 'falcon9', 'rocket_name': 'Falco...            NaN  "
      ]
     },
     "execution_count": 12,
     "metadata": {},
     "output_type": "execute_result"
    }
   ],
   "source": [
    "v3_launches = v3_launches.sort_values(by=['date'])\n",
    "v3_launches.tail() "
   ]
  },
  {
   "cell_type": "markdown",
   "metadata": {},
   "source": [
    "Deleting all rows containing future starts."
   ]
  },
  {
   "cell_type": "code",
   "execution_count": 13,
   "metadata": {
    "scrolled": false
   },
   "outputs": [
    {
     "data": {
      "text/html": [
       "<div>\n",
       "<style scoped>\n",
       "    .dataframe tbody tr th:only-of-type {\n",
       "        vertical-align: middle;\n",
       "    }\n",
       "\n",
       "    .dataframe tbody tr th {\n",
       "        vertical-align: top;\n",
       "    }\n",
       "\n",
       "    .dataframe thead th {\n",
       "        text-align: right;\n",
       "    }\n",
       "</style>\n",
       "<table border=\"1\" class=\"dataframe\">\n",
       "  <thead>\n",
       "    <tr style=\"text-align: right;\">\n",
       "      <th></th>\n",
       "      <th>flight_number</th>\n",
       "      <th>date</th>\n",
       "      <th>rocket</th>\n",
       "      <th>launch_success</th>\n",
       "    </tr>\n",
       "  </thead>\n",
       "  <tbody>\n",
       "    <tr>\n",
       "      <th>78</th>\n",
       "      <td>79</td>\n",
       "      <td>2019-05-23</td>\n",
       "      <td>{'rocket_id': 'falcon9', 'rocket_name': 'Falco...</td>\n",
       "      <td>True</td>\n",
       "    </tr>\n",
       "    <tr>\n",
       "      <th>79</th>\n",
       "      <td>80</td>\n",
       "      <td>2019-06-12</td>\n",
       "      <td>{'rocket_id': 'falcon9', 'rocket_name': 'Falco...</td>\n",
       "      <td>True</td>\n",
       "    </tr>\n",
       "    <tr>\n",
       "      <th>80</th>\n",
       "      <td>81</td>\n",
       "      <td>2019-06-24</td>\n",
       "      <td>{'rocket_id': 'falconheavy', 'rocket_name': 'F...</td>\n",
       "      <td>True</td>\n",
       "    </tr>\n",
       "    <tr>\n",
       "      <th>81</th>\n",
       "      <td>82</td>\n",
       "      <td>2019-07-25</td>\n",
       "      <td>{'rocket_id': 'falcon9', 'rocket_name': 'Falco...</td>\n",
       "      <td>True</td>\n",
       "    </tr>\n",
       "    <tr>\n",
       "      <th>82</th>\n",
       "      <td>83</td>\n",
       "      <td>2019-08-06</td>\n",
       "      <td>{'rocket_id': 'falcon9', 'rocket_name': 'Falco...</td>\n",
       "      <td>True</td>\n",
       "    </tr>\n",
       "  </tbody>\n",
       "</table>\n",
       "</div>"
      ],
      "text/plain": [
       "    flight_number       date  \\\n",
       "78             79 2019-05-23   \n",
       "79             80 2019-06-12   \n",
       "80             81 2019-06-24   \n",
       "81             82 2019-07-25   \n",
       "82             83 2019-08-06   \n",
       "\n",
       "                                               rocket launch_success  \n",
       "78  {'rocket_id': 'falcon9', 'rocket_name': 'Falco...           True  \n",
       "79  {'rocket_id': 'falcon9', 'rocket_name': 'Falco...           True  \n",
       "80  {'rocket_id': 'falconheavy', 'rocket_name': 'F...           True  \n",
       "81  {'rocket_id': 'falcon9', 'rocket_name': 'Falco...           True  \n",
       "82  {'rocket_id': 'falcon9', 'rocket_name': 'Falco...           True  "
      ]
     },
     "execution_count": 13,
     "metadata": {},
     "output_type": "execute_result"
    }
   ],
   "source": [
    "# Deleting rows with future starts.\n",
    "now = datetime.datetime.now()\n",
    "v3_launches = v3_launches[v3_launches.date < now]\n",
    "\n",
    "v3_launches.tail() "
   ]
  },
  {
   "cell_type": "markdown",
   "metadata": {},
   "source": [
    "Extracting information from rocket column and adding them to new columns."
   ]
  },
  {
   "cell_type": "code",
   "execution_count": 14,
   "metadata": {
    "scrolled": true
   },
   "outputs": [],
   "source": [
    "rocket_name = []\n",
    "reused = []\n",
    "landing_intent = []\n",
    "land_success = []\n",
    "\n",
    "for index, row in v3_launches.iterrows():\n",
    "    rocket_name.append(eval(row['rocket'])['rocket_name'])\n",
    "    reused.append(eval(row['rocket'])['first_stage']['cores'][0]['reused'])\n",
    "    land_success.append(eval(row['rocket'])['first_stage']['cores'][0]['land_success'])\n",
    "    landing_intent.append(eval(row['rocket'])['first_stage']['cores'][0]['landing_intent'])\n",
    "    \n",
    "v3_launches['rocket_name'] = rocket_name\n",
    "v3_launches['reused'] = reused\n",
    "v3_launches['landing_intent'] = landing_intent\n",
    "v3_launches['land_success'] = land_success\n",
    "\n",
    "# Deleting rocket column.\n",
    "v3_launches = v3_launches.drop('rocket', axis=1)"
   ]
  },
  {
   "cell_type": "markdown",
   "metadata": {},
   "source": [
    "Filling NaN rows in land_success columns as NA - not attempted."
   ]
  },
  {
   "cell_type": "code",
   "execution_count": 15,
   "metadata": {
    "scrolled": true
   },
   "outputs": [],
   "source": [
    "v3_launches['land_success'].fillna(0, inplace=True)"
   ]
  },
  {
   "cell_type": "markdown",
   "metadata": {},
   "source": [
    "Deleting rows with NaN values."
   ]
  },
  {
   "cell_type": "code",
   "execution_count": 16,
   "metadata": {
    "scrolled": true
   },
   "outputs": [
    {
     "name": "stdout",
     "output_type": "stream",
     "text": [
      "<class 'pandas.core.frame.DataFrame'>\n",
      "Int64Index: 83 entries, 0 to 82\n",
      "Data columns (total 7 columns):\n",
      "flight_number     83 non-null int64\n",
      "date              83 non-null datetime64[ns]\n",
      "launch_success    83 non-null object\n",
      "rocket_name       83 non-null object\n",
      "reused            83 non-null object\n",
      "landing_intent    83 non-null object\n",
      "land_success      83 non-null object\n",
      "dtypes: datetime64[ns](1), int64(1), object(5)\n",
      "memory usage: 5.2+ KB\n"
     ]
    }
   ],
   "source": [
    "v3_launches.dropna(inplace=True)\n",
    "v3_launches.info()"
   ]
  },
  {
   "cell_type": "markdown",
   "metadata": {},
   "source": [
    "Index reseting."
   ]
  },
  {
   "cell_type": "code",
   "execution_count": 17,
   "metadata": {},
   "outputs": [
    {
     "data": {
      "text/html": [
       "<div>\n",
       "<style scoped>\n",
       "    .dataframe tbody tr th:only-of-type {\n",
       "        vertical-align: middle;\n",
       "    }\n",
       "\n",
       "    .dataframe tbody tr th {\n",
       "        vertical-align: top;\n",
       "    }\n",
       "\n",
       "    .dataframe thead th {\n",
       "        text-align: right;\n",
       "    }\n",
       "</style>\n",
       "<table border=\"1\" class=\"dataframe\">\n",
       "  <thead>\n",
       "    <tr style=\"text-align: right;\">\n",
       "      <th></th>\n",
       "      <th>flight_number</th>\n",
       "      <th>date</th>\n",
       "      <th>launch_success</th>\n",
       "      <th>rocket_name</th>\n",
       "      <th>reused</th>\n",
       "      <th>landing_intent</th>\n",
       "      <th>land_success</th>\n",
       "    </tr>\n",
       "  </thead>\n",
       "  <tbody>\n",
       "    <tr>\n",
       "      <th>0</th>\n",
       "      <td>1</td>\n",
       "      <td>2006-03-24</td>\n",
       "      <td>False</td>\n",
       "      <td>Falcon 1</td>\n",
       "      <td>False</td>\n",
       "      <td>False</td>\n",
       "      <td>0</td>\n",
       "    </tr>\n",
       "    <tr>\n",
       "      <th>1</th>\n",
       "      <td>2</td>\n",
       "      <td>2007-03-21</td>\n",
       "      <td>False</td>\n",
       "      <td>Falcon 1</td>\n",
       "      <td>False</td>\n",
       "      <td>False</td>\n",
       "      <td>0</td>\n",
       "    </tr>\n",
       "    <tr>\n",
       "      <th>2</th>\n",
       "      <td>3</td>\n",
       "      <td>2008-08-02</td>\n",
       "      <td>False</td>\n",
       "      <td>Falcon 1</td>\n",
       "      <td>False</td>\n",
       "      <td>False</td>\n",
       "      <td>0</td>\n",
       "    </tr>\n",
       "    <tr>\n",
       "      <th>3</th>\n",
       "      <td>4</td>\n",
       "      <td>2008-09-28</td>\n",
       "      <td>True</td>\n",
       "      <td>Falcon 1</td>\n",
       "      <td>False</td>\n",
       "      <td>False</td>\n",
       "      <td>0</td>\n",
       "    </tr>\n",
       "    <tr>\n",
       "      <th>4</th>\n",
       "      <td>5</td>\n",
       "      <td>2009-07-13</td>\n",
       "      <td>True</td>\n",
       "      <td>Falcon 1</td>\n",
       "      <td>False</td>\n",
       "      <td>False</td>\n",
       "      <td>0</td>\n",
       "    </tr>\n",
       "    <tr>\n",
       "      <th>...</th>\n",
       "      <td>...</td>\n",
       "      <td>...</td>\n",
       "      <td>...</td>\n",
       "      <td>...</td>\n",
       "      <td>...</td>\n",
       "      <td>...</td>\n",
       "      <td>...</td>\n",
       "    </tr>\n",
       "    <tr>\n",
       "      <th>78</th>\n",
       "      <td>79</td>\n",
       "      <td>2019-05-23</td>\n",
       "      <td>True</td>\n",
       "      <td>Falcon 9</td>\n",
       "      <td>True</td>\n",
       "      <td>True</td>\n",
       "      <td>True</td>\n",
       "    </tr>\n",
       "    <tr>\n",
       "      <th>79</th>\n",
       "      <td>80</td>\n",
       "      <td>2019-06-12</td>\n",
       "      <td>True</td>\n",
       "      <td>Falcon 9</td>\n",
       "      <td>True</td>\n",
       "      <td>True</td>\n",
       "      <td>True</td>\n",
       "    </tr>\n",
       "    <tr>\n",
       "      <th>80</th>\n",
       "      <td>81</td>\n",
       "      <td>2019-06-24</td>\n",
       "      <td>True</td>\n",
       "      <td>Falcon Heavy</td>\n",
       "      <td>False</td>\n",
       "      <td>True</td>\n",
       "      <td>False</td>\n",
       "    </tr>\n",
       "    <tr>\n",
       "      <th>81</th>\n",
       "      <td>82</td>\n",
       "      <td>2019-07-25</td>\n",
       "      <td>True</td>\n",
       "      <td>Falcon 9</td>\n",
       "      <td>True</td>\n",
       "      <td>True</td>\n",
       "      <td>True</td>\n",
       "    </tr>\n",
       "    <tr>\n",
       "      <th>82</th>\n",
       "      <td>83</td>\n",
       "      <td>2019-08-06</td>\n",
       "      <td>True</td>\n",
       "      <td>Falcon 9</td>\n",
       "      <td>True</td>\n",
       "      <td>False</td>\n",
       "      <td>0</td>\n",
       "    </tr>\n",
       "  </tbody>\n",
       "</table>\n",
       "<p>83 rows × 7 columns</p>\n",
       "</div>"
      ],
      "text/plain": [
       "    flight_number       date launch_success   rocket_name reused  \\\n",
       "0               1 2006-03-24          False      Falcon 1  False   \n",
       "1               2 2007-03-21          False      Falcon 1  False   \n",
       "2               3 2008-08-02          False      Falcon 1  False   \n",
       "3               4 2008-09-28           True      Falcon 1  False   \n",
       "4               5 2009-07-13           True      Falcon 1  False   \n",
       "..            ...        ...            ...           ...    ...   \n",
       "78             79 2019-05-23           True      Falcon 9   True   \n",
       "79             80 2019-06-12           True      Falcon 9   True   \n",
       "80             81 2019-06-24           True  Falcon Heavy  False   \n",
       "81             82 2019-07-25           True      Falcon 9   True   \n",
       "82             83 2019-08-06           True      Falcon 9   True   \n",
       "\n",
       "   landing_intent land_success  \n",
       "0           False            0  \n",
       "1           False            0  \n",
       "2           False            0  \n",
       "3           False            0  \n",
       "4           False            0  \n",
       "..            ...          ...  \n",
       "78           True         True  \n",
       "79           True         True  \n",
       "80           True        False  \n",
       "81           True         True  \n",
       "82          False            0  \n",
       "\n",
       "[83 rows x 7 columns]"
      ]
     },
     "execution_count": 17,
     "metadata": {},
     "output_type": "execute_result"
    }
   ],
   "source": [
    "v3_launches.reset_index(drop=True)"
   ]
  },
  {
   "cell_type": "markdown",
   "metadata": {},
   "source": [
    "## Data analysis"
   ]
  },
  {
   "cell_type": "code",
   "execution_count": 18,
   "metadata": {},
   "outputs": [],
   "source": [
    "import matplotlib.pyplot as plt"
   ]
  },
  {
   "cell_type": "markdown",
   "metadata": {},
   "source": [
    "### Start success rate analysis."
   ]
  },
  {
   "cell_type": "code",
   "execution_count": 58,
   "metadata": {
    "scrolled": true
   },
   "outputs": [
    {
     "data": {
      "text/plain": [
       "[<matplotlib.lines.Line2D at 0x217d74f2b00>]"
      ]
     },
     "execution_count": 58,
     "metadata": {},
     "output_type": "execute_result"
    },
    {
     "data": {
      "image/png": "[encoded data removed]",
      "text/plain": [
       "<Figure size 864x720 with 2 Axes>"
      ]
     },
     "metadata": {
      "needs_background": "light"
     },
     "output_type": "display_data"
    }
   ],
   "source": [
    "fig = plt.figure(figsize=(12,10))\n",
    "ax1 = fig.add_subplot(2,1,1)\n",
    "ax2 = fig.add_subplot(2,1,2)\n",
    "\n",
    "# Creating start success percentage column\n",
    "_iter = 0\n",
    "_success_sum = 0\n",
    "_success_ratio = []\n",
    "for index, row in v3_launches.iterrows():\n",
    "    _iter += 1\n",
    "    if row['launch_success'] == 'True':\n",
    "        _success_sum += 1\n",
    "    _success_ratio.append(_success_sum/_iter * 100)\n",
    "    \n",
    "ax1.scatter(v3_launches['flight_number'][:], v3_launches['launch_success'][:])\n",
    "ax2.plot(v3_launches['flight_number'][:], _success_ratio[:])"
   ]
  },
  {
   "cell_type": "markdown",
   "metadata": {},
   "source": [
    "We can see, that since 2017 every start was a success. In summary, over 90% starts were successful."
   ]
  },
  {
   "cell_type": "markdown",
   "metadata": {},
   "source": [
    "### Falcon 9 used first stage usage."
   ]
  },
  {
   "cell_type": "code",
   "execution_count": 37,
   "metadata": {
    "scrolled": true
   },
   "outputs": [
    {
     "data": {
      "image/png": "[encoded data removed]",
      "text/plain": [
       "<Figure size 864x360 with 1 Axes>"
      ]
     },
     "metadata": {
      "needs_background": "light"
     },
     "output_type": "display_data"
    }
   ],
   "source": [
    "plt.figure(figsize=(12,5))\n",
    "plt.scatter(v3_launches['flight_number'][:], v3_launches['reused'][:])\n",
    "plt.show()"
   ]
  },
  {
   "cell_type": "markdown",
   "metadata": {},
   "source": [
    "We can observe an increase in the frequency of use of the used first stage of the Falcon 9 rocket."
   ]
  },
  {
   "cell_type": "markdown",
   "metadata": {},
   "source": [
    "### Landings."
   ]
  },
  {
   "cell_type": "code",
   "execution_count": 39,
   "metadata": {
    "scrolled": true
   },
   "outputs": [
    {
     "data": {
      "image/png": "[encoded data removed]",
      "text/plain": [
       "<Figure size 864x360 with 1 Axes>"
      ]
     },
     "metadata": {
      "needs_background": "light"
     },
     "output_type": "display_data"
    }
   ],
   "source": [
    "plt.figure(figsize=(12,5))\n",
    "plt.scatter(v3_launches[v3_launches.landing_intent == True]['flight_number'][:], v3_launches[v3_launches.landing_intent == True]['land_success'][:])\n",
    "plt.show()"
   ]
  },
  {
   "cell_type": "code",
   "execution_count": 52,
   "metadata": {
    "scrolled": true
   },
   "outputs": [
    {
     "data": {
      "text/plain": [
       "[<matplotlib.lines.Line2D at 0x217d4e83cc0>]"
      ]
     },
     "execution_count": 52,
     "metadata": {},
     "output_type": "execute_result"
    },
    {
     "data": {
      "image/png": "[encoded data removed]",
      "text/plain": [
       "<Figure size 864x720 with 2 Axes>"
      ]
     },
     "metadata": {
      "needs_background": "light"
     },
     "output_type": "display_data"
    }
   ],
   "source": [
    "fig = plt.figure(figsize=(12,10))\n",
    "ax1 = fig.add_subplot(2,1,1)\n",
    "ax2 = fig.add_subplot(2,1,2)\n",
    "\n",
    "# Creating landing success percentage column\n",
    "_iter = 0\n",
    "_success_sum = 0\n",
    "_success_ratio = []\n",
    "for index, row in v3_launches[v3_launches.landing_intent == True].iterrows():\n",
    "    _iter += 1\n",
    "    if row['land_success'] == True:\n",
    "        _success_sum += 1\n",
    "    _success_ratio.append(_success_sum/_iter * 100)\n",
    "\n",
    "ax1.scatter(v3_launches[v3_launches.landing_intent == True]['flight_number'][:], v3_launches[v3_launches.landing_intent == True]['land_success'][:])\n",
    "ax2.plot(v3_launches[v3_launches.landing_intent == True]['flight_number'][:], _success_ratio[:])"
   ]
  },
  {
   "cell_type": "markdown",
   "metadata": {},
   "source": [
    "As we can see, landing success ratio is increasing. It shows, that SpaceX company is capable of performing innovative vertical rocket landing process."
   ]
  }
 ],
 "metadata": {
  "kernelspec": {
   "display_name": "Python 3",
   "language": "python",
   "name": "python3"
  },
  "language_info": {
   "codemirror_mode": {
    "name": "ipython",
    "version": 3
   },
   "file_extension": ".py",
   "mimetype": "text/x-python",
   "name": "python",
   "nbconvert_exporter": "python",
   "pygments_lexer": "ipython3",
   "version": "3.6.6"
  }
 },
 "nbformat": 4,
 "nbformat_minor": 2
}
